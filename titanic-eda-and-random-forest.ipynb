{
 "cells": [
  {
   "cell_type": "code",
   "execution_count": 1,
   "id": "abc49dad",
   "metadata": {
    "execution": {
     "iopub.execute_input": "2023-09-23T00:14:03.562482Z",
     "iopub.status.busy": "2023-09-23T00:14:03.561325Z",
     "iopub.status.idle": "2023-09-23T00:14:04.931335Z",
     "shell.execute_reply": "2023-09-23T00:14:04.930314Z"
    },
    "papermill": {
     "duration": 1.384629,
     "end_time": "2023-09-23T00:14:04.933792",
     "exception": false,
     "start_time": "2023-09-23T00:14:03.549163",
     "status": "completed"
    },
    "tags": []
   },
   "outputs": [
    {
     "name": "stderr",
     "output_type": "stream",
     "text": [
      "/opt/conda/lib/python3.10/site-packages/scipy/__init__.py:146: UserWarning: A NumPy version >=1.16.5 and <1.23.0 is required for this version of SciPy (detected version 1.23.5\n",
      "  warnings.warn(f\"A NumPy version >={np_minversion} and <{np_maxversion}\"\n"
     ]
    }
   ],
   "source": [
    "import pandas as pd\n",
    "import numpy as np\n",
    "import matplotlib.pyplot as plt\n",
    "import seaborn as sns\n",
    "\n",
    "import warnings\n",
    "warnings.filterwarnings(\"ignore\")\n",
    "%matplotlib inline"
   ]
  },
  {
   "cell_type": "code",
   "execution_count": 2,
   "id": "e823dd12",
   "metadata": {
    "execution": {
     "iopub.execute_input": "2023-09-23T00:14:04.957050Z",
     "iopub.status.busy": "2023-09-23T00:14:04.956351Z",
     "iopub.status.idle": "2023-09-23T00:14:04.989678Z",
     "shell.execute_reply": "2023-09-23T00:14:04.988595Z"
    },
    "papermill": {
     "duration": 0.04805,
     "end_time": "2023-09-23T00:14:04.992215",
     "exception": false,
     "start_time": "2023-09-23T00:14:04.944165",
     "status": "completed"
    },
    "tags": []
   },
   "outputs": [],
   "source": [
    "train_data = pd.read_csv(\"/kaggle/input/titanic/train.csv\")\n",
    "test_data = pd.read_csv(\"/kaggle/input/titanic/test.csv\")\n",
    "\n",
    "test_data_c = test_data.copy()\n",
    "train_data_c = train_data.copy()"
   ]
  },
  {
   "cell_type": "code",
   "execution_count": 3,
   "id": "eeb60582",
   "metadata": {
    "execution": {
     "iopub.execute_input": "2023-09-23T00:14:05.014324Z",
     "iopub.status.busy": "2023-09-23T00:14:05.013992Z",
     "iopub.status.idle": "2023-09-23T00:14:05.038386Z",
     "shell.execute_reply": "2023-09-23T00:14:05.037137Z"
    },
    "papermill": {
     "duration": 0.037644,
     "end_time": "2023-09-23T00:14:05.040151",
     "exception": false,
     "start_time": "2023-09-23T00:14:05.002507",
     "status": "completed"
    },
    "tags": []
   },
   "outputs": [
    {
     "data": {
      "text/html": [
       "<div>\n",
       "<style scoped>\n",
       "    .dataframe tbody tr th:only-of-type {\n",
       "        vertical-align: middle;\n",
       "    }\n",
       "\n",
       "    .dataframe tbody tr th {\n",
       "        vertical-align: top;\n",
       "    }\n",
       "\n",
       "    .dataframe thead th {\n",
       "        text-align: right;\n",
       "    }\n",
       "</style>\n",
       "<table border=\"1\" class=\"dataframe\">\n",
       "  <thead>\n",
       "    <tr style=\"text-align: right;\">\n",
       "      <th></th>\n",
       "      <th>PassengerId</th>\n",
       "      <th>Survived</th>\n",
       "      <th>Pclass</th>\n",
       "      <th>Name</th>\n",
       "      <th>Sex</th>\n",
       "      <th>Age</th>\n",
       "      <th>SibSp</th>\n",
       "      <th>Parch</th>\n",
       "      <th>Ticket</th>\n",
       "      <th>Fare</th>\n",
       "      <th>Cabin</th>\n",
       "      <th>Embarked</th>\n",
       "    </tr>\n",
       "  </thead>\n",
       "  <tbody>\n",
       "    <tr>\n",
       "      <th>0</th>\n",
       "      <td>1</td>\n",
       "      <td>0</td>\n",
       "      <td>3</td>\n",
       "      <td>Braund, Mr. Owen Harris</td>\n",
       "      <td>male</td>\n",
       "      <td>22.0</td>\n",
       "      <td>1</td>\n",
       "      <td>0</td>\n",
       "      <td>A/5 21171</td>\n",
       "      <td>7.2500</td>\n",
       "      <td>NaN</td>\n",
       "      <td>S</td>\n",
       "    </tr>\n",
       "    <tr>\n",
       "      <th>1</th>\n",
       "      <td>2</td>\n",
       "      <td>1</td>\n",
       "      <td>1</td>\n",
       "      <td>Cumings, Mrs. John Bradley (Florence Briggs Th...</td>\n",
       "      <td>female</td>\n",
       "      <td>38.0</td>\n",
       "      <td>1</td>\n",
       "      <td>0</td>\n",
       "      <td>PC 17599</td>\n",
       "      <td>71.2833</td>\n",
       "      <td>C85</td>\n",
       "      <td>C</td>\n",
       "    </tr>\n",
       "    <tr>\n",
       "      <th>2</th>\n",
       "      <td>3</td>\n",
       "      <td>1</td>\n",
       "      <td>3</td>\n",
       "      <td>Heikkinen, Miss. Laina</td>\n",
       "      <td>female</td>\n",
       "      <td>26.0</td>\n",
       "      <td>0</td>\n",
       "      <td>0</td>\n",
       "      <td>STON/O2. 3101282</td>\n",
       "      <td>7.9250</td>\n",
       "      <td>NaN</td>\n",
       "      <td>S</td>\n",
       "    </tr>\n",
       "    <tr>\n",
       "      <th>3</th>\n",
       "      <td>4</td>\n",
       "      <td>1</td>\n",
       "      <td>1</td>\n",
       "      <td>Futrelle, Mrs. Jacques Heath (Lily May Peel)</td>\n",
       "      <td>female</td>\n",
       "      <td>35.0</td>\n",
       "      <td>1</td>\n",
       "      <td>0</td>\n",
       "      <td>113803</td>\n",
       "      <td>53.1000</td>\n",
       "      <td>C123</td>\n",
       "      <td>S</td>\n",
       "    </tr>\n",
       "    <tr>\n",
       "      <th>4</th>\n",
       "      <td>5</td>\n",
       "      <td>0</td>\n",
       "      <td>3</td>\n",
       "      <td>Allen, Mr. William Henry</td>\n",
       "      <td>male</td>\n",
       "      <td>35.0</td>\n",
       "      <td>0</td>\n",
       "      <td>0</td>\n",
       "      <td>373450</td>\n",
       "      <td>8.0500</td>\n",
       "      <td>NaN</td>\n",
       "      <td>S</td>\n",
       "    </tr>\n",
       "  </tbody>\n",
       "</table>\n",
       "</div>"
      ],
      "text/plain": [
       "   PassengerId  Survived  Pclass  \\\n",
       "0            1         0       3   \n",
       "1            2         1       1   \n",
       "2            3         1       3   \n",
       "3            4         1       1   \n",
       "4            5         0       3   \n",
       "\n",
       "                                                Name     Sex   Age  SibSp  \\\n",
       "0                            Braund, Mr. Owen Harris    male  22.0      1   \n",
       "1  Cumings, Mrs. John Bradley (Florence Briggs Th...  female  38.0      1   \n",
       "2                             Heikkinen, Miss. Laina  female  26.0      0   \n",
       "3       Futrelle, Mrs. Jacques Heath (Lily May Peel)  female  35.0      1   \n",
       "4                           Allen, Mr. William Henry    male  35.0      0   \n",
       "\n",
       "   Parch            Ticket     Fare Cabin Embarked  \n",
       "0      0         A/5 21171   7.2500   NaN        S  \n",
       "1      0          PC 17599  71.2833   C85        C  \n",
       "2      0  STON/O2. 3101282   7.9250   NaN        S  \n",
       "3      0            113803  53.1000  C123        S  \n",
       "4      0            373450   8.0500   NaN        S  "
      ]
     },
     "execution_count": 3,
     "metadata": {},
     "output_type": "execute_result"
    }
   ],
   "source": [
    "train_data.head()"
   ]
  },
  {
   "cell_type": "code",
   "execution_count": 4,
   "id": "f0ca1556",
   "metadata": {
    "execution": {
     "iopub.execute_input": "2023-09-23T00:14:05.061808Z",
     "iopub.status.busy": "2023-09-23T00:14:05.061299Z",
     "iopub.status.idle": "2023-09-23T00:14:05.067867Z",
     "shell.execute_reply": "2023-09-23T00:14:05.066791Z"
    },
    "papermill": {
     "duration": 0.020273,
     "end_time": "2023-09-23T00:14:05.070407",
     "exception": false,
     "start_time": "2023-09-23T00:14:05.050134",
     "status": "completed"
    },
    "tags": []
   },
   "outputs": [
    {
     "data": {
      "text/plain": [
       "(891, 12)"
      ]
     },
     "execution_count": 4,
     "metadata": {},
     "output_type": "execute_result"
    }
   ],
   "source": [
    "train_data.shape"
   ]
  },
  {
   "cell_type": "code",
   "execution_count": 5,
   "id": "e166a257",
   "metadata": {
    "execution": {
     "iopub.execute_input": "2023-09-23T00:14:05.094884Z",
     "iopub.status.busy": "2023-09-23T00:14:05.094309Z",
     "iopub.status.idle": "2023-09-23T00:14:05.123598Z",
     "shell.execute_reply": "2023-09-23T00:14:05.121556Z"
    },
    "papermill": {
     "duration": 0.04363,
     "end_time": "2023-09-23T00:14:05.125901",
     "exception": false,
     "start_time": "2023-09-23T00:14:05.082271",
     "status": "completed"
    },
    "tags": []
   },
   "outputs": [
    {
     "name": "stdout",
     "output_type": "stream",
     "text": [
      "<class 'pandas.core.frame.DataFrame'>\n",
      "RangeIndex: 891 entries, 0 to 890\n",
      "Data columns (total 12 columns):\n",
      " #   Column       Non-Null Count  Dtype  \n",
      "---  ------       --------------  -----  \n",
      " 0   PassengerId  891 non-null    int64  \n",
      " 1   Survived     891 non-null    int64  \n",
      " 2   Pclass       891 non-null    int64  \n",
      " 3   Name         891 non-null    object \n",
      " 4   Sex          891 non-null    object \n",
      " 5   Age          714 non-null    float64\n",
      " 6   SibSp        891 non-null    int64  \n",
      " 7   Parch        891 non-null    int64  \n",
      " 8   Ticket       891 non-null    object \n",
      " 9   Fare         891 non-null    float64\n",
      " 10  Cabin        204 non-null    object \n",
      " 11  Embarked     889 non-null    object \n",
      "dtypes: float64(2), int64(5), object(5)\n",
      "memory usage: 83.7+ KB\n"
     ]
    }
   ],
   "source": [
    "train_data.info()"
   ]
  },
  {
   "cell_type": "code",
   "execution_count": 6,
   "id": "c1501c77",
   "metadata": {
    "execution": {
     "iopub.execute_input": "2023-09-23T00:14:05.148221Z",
     "iopub.status.busy": "2023-09-23T00:14:05.147903Z",
     "iopub.status.idle": "2023-09-23T00:14:05.176935Z",
     "shell.execute_reply": "2023-09-23T00:14:05.175778Z"
    },
    "papermill": {
     "duration": 0.042273,
     "end_time": "2023-09-23T00:14:05.178715",
     "exception": false,
     "start_time": "2023-09-23T00:14:05.136442",
     "status": "completed"
    },
    "tags": []
   },
   "outputs": [
    {
     "data": {
      "text/html": [
       "<div>\n",
       "<style scoped>\n",
       "    .dataframe tbody tr th:only-of-type {\n",
       "        vertical-align: middle;\n",
       "    }\n",
       "\n",
       "    .dataframe tbody tr th {\n",
       "        vertical-align: top;\n",
       "    }\n",
       "\n",
       "    .dataframe thead th {\n",
       "        text-align: right;\n",
       "    }\n",
       "</style>\n",
       "<table border=\"1\" class=\"dataframe\">\n",
       "  <thead>\n",
       "    <tr style=\"text-align: right;\">\n",
       "      <th></th>\n",
       "      <th>PassengerId</th>\n",
       "      <th>Survived</th>\n",
       "      <th>Pclass</th>\n",
       "      <th>Age</th>\n",
       "      <th>SibSp</th>\n",
       "      <th>Parch</th>\n",
       "      <th>Fare</th>\n",
       "    </tr>\n",
       "  </thead>\n",
       "  <tbody>\n",
       "    <tr>\n",
       "      <th>count</th>\n",
       "      <td>891.000000</td>\n",
       "      <td>891.000000</td>\n",
       "      <td>891.000000</td>\n",
       "      <td>714.000000</td>\n",
       "      <td>891.000000</td>\n",
       "      <td>891.000000</td>\n",
       "      <td>891.000000</td>\n",
       "    </tr>\n",
       "    <tr>\n",
       "      <th>mean</th>\n",
       "      <td>446.000000</td>\n",
       "      <td>0.383838</td>\n",
       "      <td>2.308642</td>\n",
       "      <td>29.699118</td>\n",
       "      <td>0.523008</td>\n",
       "      <td>0.381594</td>\n",
       "      <td>32.204208</td>\n",
       "    </tr>\n",
       "    <tr>\n",
       "      <th>std</th>\n",
       "      <td>257.353842</td>\n",
       "      <td>0.486592</td>\n",
       "      <td>0.836071</td>\n",
       "      <td>14.526497</td>\n",
       "      <td>1.102743</td>\n",
       "      <td>0.806057</td>\n",
       "      <td>49.693429</td>\n",
       "    </tr>\n",
       "    <tr>\n",
       "      <th>min</th>\n",
       "      <td>1.000000</td>\n",
       "      <td>0.000000</td>\n",
       "      <td>1.000000</td>\n",
       "      <td>0.420000</td>\n",
       "      <td>0.000000</td>\n",
       "      <td>0.000000</td>\n",
       "      <td>0.000000</td>\n",
       "    </tr>\n",
       "    <tr>\n",
       "      <th>25%</th>\n",
       "      <td>223.500000</td>\n",
       "      <td>0.000000</td>\n",
       "      <td>2.000000</td>\n",
       "      <td>20.125000</td>\n",
       "      <td>0.000000</td>\n",
       "      <td>0.000000</td>\n",
       "      <td>7.910400</td>\n",
       "    </tr>\n",
       "    <tr>\n",
       "      <th>50%</th>\n",
       "      <td>446.000000</td>\n",
       "      <td>0.000000</td>\n",
       "      <td>3.000000</td>\n",
       "      <td>28.000000</td>\n",
       "      <td>0.000000</td>\n",
       "      <td>0.000000</td>\n",
       "      <td>14.454200</td>\n",
       "    </tr>\n",
       "    <tr>\n",
       "      <th>75%</th>\n",
       "      <td>668.500000</td>\n",
       "      <td>1.000000</td>\n",
       "      <td>3.000000</td>\n",
       "      <td>38.000000</td>\n",
       "      <td>1.000000</td>\n",
       "      <td>0.000000</td>\n",
       "      <td>31.000000</td>\n",
       "    </tr>\n",
       "    <tr>\n",
       "      <th>max</th>\n",
       "      <td>891.000000</td>\n",
       "      <td>1.000000</td>\n",
       "      <td>3.000000</td>\n",
       "      <td>80.000000</td>\n",
       "      <td>8.000000</td>\n",
       "      <td>6.000000</td>\n",
       "      <td>512.329200</td>\n",
       "    </tr>\n",
       "  </tbody>\n",
       "</table>\n",
       "</div>"
      ],
      "text/plain": [
       "       PassengerId    Survived      Pclass         Age       SibSp  \\\n",
       "count   891.000000  891.000000  891.000000  714.000000  891.000000   \n",
       "mean    446.000000    0.383838    2.308642   29.699118    0.523008   \n",
       "std     257.353842    0.486592    0.836071   14.526497    1.102743   \n",
       "min       1.000000    0.000000    1.000000    0.420000    0.000000   \n",
       "25%     223.500000    0.000000    2.000000   20.125000    0.000000   \n",
       "50%     446.000000    0.000000    3.000000   28.000000    0.000000   \n",
       "75%     668.500000    1.000000    3.000000   38.000000    1.000000   \n",
       "max     891.000000    1.000000    3.000000   80.000000    8.000000   \n",
       "\n",
       "            Parch        Fare  \n",
       "count  891.000000  891.000000  \n",
       "mean     0.381594   32.204208  \n",
       "std      0.806057   49.693429  \n",
       "min      0.000000    0.000000  \n",
       "25%      0.000000    7.910400  \n",
       "50%      0.000000   14.454200  \n",
       "75%      0.000000   31.000000  \n",
       "max      6.000000  512.329200  "
      ]
     },
     "execution_count": 6,
     "metadata": {},
     "output_type": "execute_result"
    }
   ],
   "source": [
    "train_data.describe()"
   ]
  },
  {
   "cell_type": "code",
   "execution_count": 7,
   "id": "a70d952f",
   "metadata": {
    "execution": {
     "iopub.execute_input": "2023-09-23T00:14:05.201194Z",
     "iopub.status.busy": "2023-09-23T00:14:05.200899Z",
     "iopub.status.idle": "2023-09-23T00:14:05.215858Z",
     "shell.execute_reply": "2023-09-23T00:14:05.214929Z"
    },
    "papermill": {
     "duration": 0.028962,
     "end_time": "2023-09-23T00:14:05.218129",
     "exception": false,
     "start_time": "2023-09-23T00:14:05.189167",
     "status": "completed"
    },
    "tags": []
   },
   "outputs": [
    {
     "data": {
      "text/html": [
       "<div>\n",
       "<style scoped>\n",
       "    .dataframe tbody tr th:only-of-type {\n",
       "        vertical-align: middle;\n",
       "    }\n",
       "\n",
       "    .dataframe tbody tr th {\n",
       "        vertical-align: top;\n",
       "    }\n",
       "\n",
       "    .dataframe thead th {\n",
       "        text-align: right;\n",
       "    }\n",
       "</style>\n",
       "<table border=\"1\" class=\"dataframe\">\n",
       "  <thead>\n",
       "    <tr style=\"text-align: right;\">\n",
       "      <th></th>\n",
       "      <th>PassengerId</th>\n",
       "      <th>Pclass</th>\n",
       "      <th>Name</th>\n",
       "      <th>Sex</th>\n",
       "      <th>Age</th>\n",
       "      <th>SibSp</th>\n",
       "      <th>Parch</th>\n",
       "      <th>Ticket</th>\n",
       "      <th>Fare</th>\n",
       "      <th>Cabin</th>\n",
       "      <th>Embarked</th>\n",
       "    </tr>\n",
       "  </thead>\n",
       "  <tbody>\n",
       "    <tr>\n",
       "      <th>0</th>\n",
       "      <td>892</td>\n",
       "      <td>3</td>\n",
       "      <td>Kelly, Mr. James</td>\n",
       "      <td>male</td>\n",
       "      <td>34.5</td>\n",
       "      <td>0</td>\n",
       "      <td>0</td>\n",
       "      <td>330911</td>\n",
       "      <td>7.8292</td>\n",
       "      <td>NaN</td>\n",
       "      <td>Q</td>\n",
       "    </tr>\n",
       "    <tr>\n",
       "      <th>1</th>\n",
       "      <td>893</td>\n",
       "      <td>3</td>\n",
       "      <td>Wilkes, Mrs. James (Ellen Needs)</td>\n",
       "      <td>female</td>\n",
       "      <td>47.0</td>\n",
       "      <td>1</td>\n",
       "      <td>0</td>\n",
       "      <td>363272</td>\n",
       "      <td>7.0000</td>\n",
       "      <td>NaN</td>\n",
       "      <td>S</td>\n",
       "    </tr>\n",
       "    <tr>\n",
       "      <th>2</th>\n",
       "      <td>894</td>\n",
       "      <td>2</td>\n",
       "      <td>Myles, Mr. Thomas Francis</td>\n",
       "      <td>male</td>\n",
       "      <td>62.0</td>\n",
       "      <td>0</td>\n",
       "      <td>0</td>\n",
       "      <td>240276</td>\n",
       "      <td>9.6875</td>\n",
       "      <td>NaN</td>\n",
       "      <td>Q</td>\n",
       "    </tr>\n",
       "    <tr>\n",
       "      <th>3</th>\n",
       "      <td>895</td>\n",
       "      <td>3</td>\n",
       "      <td>Wirz, Mr. Albert</td>\n",
       "      <td>male</td>\n",
       "      <td>27.0</td>\n",
       "      <td>0</td>\n",
       "      <td>0</td>\n",
       "      <td>315154</td>\n",
       "      <td>8.6625</td>\n",
       "      <td>NaN</td>\n",
       "      <td>S</td>\n",
       "    </tr>\n",
       "    <tr>\n",
       "      <th>4</th>\n",
       "      <td>896</td>\n",
       "      <td>3</td>\n",
       "      <td>Hirvonen, Mrs. Alexander (Helga E Lindqvist)</td>\n",
       "      <td>female</td>\n",
       "      <td>22.0</td>\n",
       "      <td>1</td>\n",
       "      <td>1</td>\n",
       "      <td>3101298</td>\n",
       "      <td>12.2875</td>\n",
       "      <td>NaN</td>\n",
       "      <td>S</td>\n",
       "    </tr>\n",
       "  </tbody>\n",
       "</table>\n",
       "</div>"
      ],
      "text/plain": [
       "   PassengerId  Pclass                                          Name     Sex  \\\n",
       "0          892       3                              Kelly, Mr. James    male   \n",
       "1          893       3              Wilkes, Mrs. James (Ellen Needs)  female   \n",
       "2          894       2                     Myles, Mr. Thomas Francis    male   \n",
       "3          895       3                              Wirz, Mr. Albert    male   \n",
       "4          896       3  Hirvonen, Mrs. Alexander (Helga E Lindqvist)  female   \n",
       "\n",
       "    Age  SibSp  Parch   Ticket     Fare Cabin Embarked  \n",
       "0  34.5      0      0   330911   7.8292   NaN        Q  \n",
       "1  47.0      1      0   363272   7.0000   NaN        S  \n",
       "2  62.0      0      0   240276   9.6875   NaN        Q  \n",
       "3  27.0      0      0   315154   8.6625   NaN        S  \n",
       "4  22.0      1      1  3101298  12.2875   NaN        S  "
      ]
     },
     "execution_count": 7,
     "metadata": {},
     "output_type": "execute_result"
    }
   ],
   "source": [
    "test_data.head()"
   ]
  },
  {
   "cell_type": "code",
   "execution_count": 8,
   "id": "48999120",
   "metadata": {
    "execution": {
     "iopub.execute_input": "2023-09-23T00:14:05.242557Z",
     "iopub.status.busy": "2023-09-23T00:14:05.241689Z",
     "iopub.status.idle": "2023-09-23T00:14:05.246896Z",
     "shell.execute_reply": "2023-09-23T00:14:05.246179Z"
    },
    "papermill": {
     "duration": 0.019009,
     "end_time": "2023-09-23T00:14:05.248458",
     "exception": false,
     "start_time": "2023-09-23T00:14:05.229449",
     "status": "completed"
    },
    "tags": []
   },
   "outputs": [
    {
     "data": {
      "text/plain": [
       "(418, 11)"
      ]
     },
     "execution_count": 8,
     "metadata": {},
     "output_type": "execute_result"
    }
   ],
   "source": [
    "test_data.shape"
   ]
  },
  {
   "cell_type": "code",
   "execution_count": 9,
   "id": "c00efbf2",
   "metadata": {
    "execution": {
     "iopub.execute_input": "2023-09-23T00:14:05.272124Z",
     "iopub.status.busy": "2023-09-23T00:14:05.271550Z",
     "iopub.status.idle": "2023-09-23T00:14:05.281859Z",
     "shell.execute_reply": "2023-09-23T00:14:05.280837Z"
    },
    "papermill": {
     "duration": 0.024379,
     "end_time": "2023-09-23T00:14:05.283810",
     "exception": false,
     "start_time": "2023-09-23T00:14:05.259431",
     "status": "completed"
    },
    "tags": []
   },
   "outputs": [
    {
     "name": "stdout",
     "output_type": "stream",
     "text": [
      "<class 'pandas.core.frame.DataFrame'>\n",
      "RangeIndex: 418 entries, 0 to 417\n",
      "Data columns (total 11 columns):\n",
      " #   Column       Non-Null Count  Dtype  \n",
      "---  ------       --------------  -----  \n",
      " 0   PassengerId  418 non-null    int64  \n",
      " 1   Pclass       418 non-null    int64  \n",
      " 2   Name         418 non-null    object \n",
      " 3   Sex          418 non-null    object \n",
      " 4   Age          332 non-null    float64\n",
      " 5   SibSp        418 non-null    int64  \n",
      " 6   Parch        418 non-null    int64  \n",
      " 7   Ticket       418 non-null    object \n",
      " 8   Fare         417 non-null    float64\n",
      " 9   Cabin        91 non-null     object \n",
      " 10  Embarked     418 non-null    object \n",
      "dtypes: float64(2), int64(4), object(5)\n",
      "memory usage: 36.0+ KB\n"
     ]
    }
   ],
   "source": [
    "test_data.info()"
   ]
  },
  {
   "cell_type": "code",
   "execution_count": 10,
   "id": "f13fea8e",
   "metadata": {
    "execution": {
     "iopub.execute_input": "2023-09-23T00:14:05.309267Z",
     "iopub.status.busy": "2023-09-23T00:14:05.307440Z",
     "iopub.status.idle": "2023-09-23T00:14:05.333911Z",
     "shell.execute_reply": "2023-09-23T00:14:05.333005Z"
    },
    "papermill": {
     "duration": 0.040598,
     "end_time": "2023-09-23T00:14:05.335701",
     "exception": false,
     "start_time": "2023-09-23T00:14:05.295103",
     "status": "completed"
    },
    "tags": []
   },
   "outputs": [
    {
     "data": {
      "text/html": [
       "<div>\n",
       "<style scoped>\n",
       "    .dataframe tbody tr th:only-of-type {\n",
       "        vertical-align: middle;\n",
       "    }\n",
       "\n",
       "    .dataframe tbody tr th {\n",
       "        vertical-align: top;\n",
       "    }\n",
       "\n",
       "    .dataframe thead th {\n",
       "        text-align: right;\n",
       "    }\n",
       "</style>\n",
       "<table border=\"1\" class=\"dataframe\">\n",
       "  <thead>\n",
       "    <tr style=\"text-align: right;\">\n",
       "      <th></th>\n",
       "      <th>PassengerId</th>\n",
       "      <th>Pclass</th>\n",
       "      <th>Age</th>\n",
       "      <th>SibSp</th>\n",
       "      <th>Parch</th>\n",
       "      <th>Fare</th>\n",
       "    </tr>\n",
       "  </thead>\n",
       "  <tbody>\n",
       "    <tr>\n",
       "      <th>count</th>\n",
       "      <td>418.000000</td>\n",
       "      <td>418.000000</td>\n",
       "      <td>332.000000</td>\n",
       "      <td>418.000000</td>\n",
       "      <td>418.000000</td>\n",
       "      <td>417.000000</td>\n",
       "    </tr>\n",
       "    <tr>\n",
       "      <th>mean</th>\n",
       "      <td>1100.500000</td>\n",
       "      <td>2.265550</td>\n",
       "      <td>30.272590</td>\n",
       "      <td>0.447368</td>\n",
       "      <td>0.392344</td>\n",
       "      <td>35.627188</td>\n",
       "    </tr>\n",
       "    <tr>\n",
       "      <th>std</th>\n",
       "      <td>120.810458</td>\n",
       "      <td>0.841838</td>\n",
       "      <td>14.181209</td>\n",
       "      <td>0.896760</td>\n",
       "      <td>0.981429</td>\n",
       "      <td>55.907576</td>\n",
       "    </tr>\n",
       "    <tr>\n",
       "      <th>min</th>\n",
       "      <td>892.000000</td>\n",
       "      <td>1.000000</td>\n",
       "      <td>0.170000</td>\n",
       "      <td>0.000000</td>\n",
       "      <td>0.000000</td>\n",
       "      <td>0.000000</td>\n",
       "    </tr>\n",
       "    <tr>\n",
       "      <th>25%</th>\n",
       "      <td>996.250000</td>\n",
       "      <td>1.000000</td>\n",
       "      <td>21.000000</td>\n",
       "      <td>0.000000</td>\n",
       "      <td>0.000000</td>\n",
       "      <td>7.895800</td>\n",
       "    </tr>\n",
       "    <tr>\n",
       "      <th>50%</th>\n",
       "      <td>1100.500000</td>\n",
       "      <td>3.000000</td>\n",
       "      <td>27.000000</td>\n",
       "      <td>0.000000</td>\n",
       "      <td>0.000000</td>\n",
       "      <td>14.454200</td>\n",
       "    </tr>\n",
       "    <tr>\n",
       "      <th>75%</th>\n",
       "      <td>1204.750000</td>\n",
       "      <td>3.000000</td>\n",
       "      <td>39.000000</td>\n",
       "      <td>1.000000</td>\n",
       "      <td>0.000000</td>\n",
       "      <td>31.500000</td>\n",
       "    </tr>\n",
       "    <tr>\n",
       "      <th>max</th>\n",
       "      <td>1309.000000</td>\n",
       "      <td>3.000000</td>\n",
       "      <td>76.000000</td>\n",
       "      <td>8.000000</td>\n",
       "      <td>9.000000</td>\n",
       "      <td>512.329200</td>\n",
       "    </tr>\n",
       "  </tbody>\n",
       "</table>\n",
       "</div>"
      ],
      "text/plain": [
       "       PassengerId      Pclass         Age       SibSp       Parch        Fare\n",
       "count   418.000000  418.000000  332.000000  418.000000  418.000000  417.000000\n",
       "mean   1100.500000    2.265550   30.272590    0.447368    0.392344   35.627188\n",
       "std     120.810458    0.841838   14.181209    0.896760    0.981429   55.907576\n",
       "min     892.000000    1.000000    0.170000    0.000000    0.000000    0.000000\n",
       "25%     996.250000    1.000000   21.000000    0.000000    0.000000    7.895800\n",
       "50%    1100.500000    3.000000   27.000000    0.000000    0.000000   14.454200\n",
       "75%    1204.750000    3.000000   39.000000    1.000000    0.000000   31.500000\n",
       "max    1309.000000    3.000000   76.000000    8.000000    9.000000  512.329200"
      ]
     },
     "execution_count": 10,
     "metadata": {},
     "output_type": "execute_result"
    }
   ],
   "source": [
    "test_data.describe()"
   ]
  },
  {
   "cell_type": "code",
   "execution_count": 11,
   "id": "1c3aa5a7",
   "metadata": {
    "execution": {
     "iopub.execute_input": "2023-09-23T00:14:05.360677Z",
     "iopub.status.busy": "2023-09-23T00:14:05.360264Z",
     "iopub.status.idle": "2023-09-23T00:14:05.368694Z",
     "shell.execute_reply": "2023-09-23T00:14:05.367635Z"
    },
    "papermill": {
     "duration": 0.022722,
     "end_time": "2023-09-23T00:14:05.370419",
     "exception": false,
     "start_time": "2023-09-23T00:14:05.347697",
     "status": "completed"
    },
    "tags": []
   },
   "outputs": [
    {
     "data": {
      "text/plain": [
       "PassengerId      0\n",
       "Survived         0\n",
       "Pclass           0\n",
       "Name             0\n",
       "Sex              0\n",
       "Age            177\n",
       "SibSp            0\n",
       "Parch            0\n",
       "Ticket           0\n",
       "Fare             0\n",
       "Cabin          687\n",
       "Embarked         2\n",
       "dtype: int64"
      ]
     },
     "execution_count": 11,
     "metadata": {},
     "output_type": "execute_result"
    }
   ],
   "source": [
    "train_data.isnull().sum()"
   ]
  },
  {
   "cell_type": "code",
   "execution_count": 12,
   "id": "764f56df",
   "metadata": {
    "execution": {
     "iopub.execute_input": "2023-09-23T00:14:05.395463Z",
     "iopub.status.busy": "2023-09-23T00:14:05.394825Z",
     "iopub.status.idle": "2023-09-23T00:14:05.401877Z",
     "shell.execute_reply": "2023-09-23T00:14:05.401238Z"
    },
    "papermill": {
     "duration": 0.021338,
     "end_time": "2023-09-23T00:14:05.403424",
     "exception": false,
     "start_time": "2023-09-23T00:14:05.382086",
     "status": "completed"
    },
    "tags": []
   },
   "outputs": [
    {
     "data": {
      "text/plain": [
       "PassengerId      0\n",
       "Pclass           0\n",
       "Name             0\n",
       "Sex              0\n",
       "Age             86\n",
       "SibSp            0\n",
       "Parch            0\n",
       "Ticket           0\n",
       "Fare             1\n",
       "Cabin          327\n",
       "Embarked         0\n",
       "dtype: int64"
      ]
     },
     "execution_count": 12,
     "metadata": {},
     "output_type": "execute_result"
    }
   ],
   "source": [
    "test_data.isnull().sum()"
   ]
  },
  {
   "cell_type": "markdown",
   "id": "02d0852b",
   "metadata": {
    "papermill": {
     "duration": 0.011062,
     "end_time": "2023-09-23T00:14:05.426032",
     "exception": false,
     "start_time": "2023-09-23T00:14:05.414970",
     "status": "completed"
    },
    "tags": []
   },
   "source": [
    "Data Visualisation for Age"
   ]
  },
  {
   "cell_type": "code",
   "execution_count": 13,
   "id": "6856f6f7",
   "metadata": {
    "execution": {
     "iopub.execute_input": "2023-09-23T00:14:05.451873Z",
     "iopub.status.busy": "2023-09-23T00:14:05.451204Z",
     "iopub.status.idle": "2023-09-23T00:14:05.980974Z",
     "shell.execute_reply": "2023-09-23T00:14:05.979841Z"
    },
    "papermill": {
     "duration": 0.544623,
     "end_time": "2023-09-23T00:14:05.982904",
     "exception": false,
     "start_time": "2023-09-23T00:14:05.438281",
     "status": "completed"
    },
    "tags": []
   },
   "outputs": [
    {
     "data": {
      "image/png": "[encoded data removed]",
      "text/plain": [
       "<Figure size 1000x1000 with 2 Axes>"
      ]
     },
     "metadata": {},
     "output_type": "display_data"
    }
   ],
   "source": [
    "fig, ax = plt.subplots(2,1, figsize = (10,10))\n",
    "ax[0] = sns.histplot(train_data[\"Age\"], kde = True, fill = True, color = \"black\", ax = ax[0]);\n",
    "ax[1] = sns.histplot(test_data[\"Age\"], kde = True, color = \"blue\", ax = ax[1]) "
   ]
  },
  {
   "cell_type": "code",
   "execution_count": 14,
   "id": "07833316",
   "metadata": {
    "execution": {
     "iopub.execute_input": "2023-09-23T00:14:06.009196Z",
     "iopub.status.busy": "2023-09-23T00:14:06.008801Z",
     "iopub.status.idle": "2023-09-23T00:14:06.015691Z",
     "shell.execute_reply": "2023-09-23T00:14:06.014482Z"
    },
    "papermill": {
     "duration": 0.022227,
     "end_time": "2023-09-23T00:14:06.017510",
     "exception": false,
     "start_time": "2023-09-23T00:14:05.995283",
     "status": "completed"
    },
    "tags": []
   },
   "outputs": [
    {
     "name": "stdout",
     "output_type": "stream",
     "text": [
      "Mean of train_data Age is : 29.69911764705882, Median of train_data Age is : 28.0 \n"
     ]
    }
   ],
   "source": [
    "print(\"Mean of train_data Age is : %s, Median of train_data Age is : %s \" %(train_data[\"Age\"].mean(),train_data[\"Age\"].median()))"
   ]
  },
  {
   "cell_type": "code",
   "execution_count": 15,
   "id": "1533a8d5",
   "metadata": {
    "execution": {
     "iopub.execute_input": "2023-09-23T00:14:06.042551Z",
     "iopub.status.busy": "2023-09-23T00:14:06.042184Z",
     "iopub.status.idle": "2023-09-23T00:14:06.049566Z",
     "shell.execute_reply": "2023-09-23T00:14:06.047877Z"
    },
    "papermill": {
     "duration": 0.022832,
     "end_time": "2023-09-23T00:14:06.052041",
     "exception": false,
     "start_time": "2023-09-23T00:14:06.029209",
     "status": "completed"
    },
    "tags": []
   },
   "outputs": [
    {
     "name": "stdout",
     "output_type": "stream",
     "text": [
      "Mean of test_data Age is : 30.272590361445783, Median of test_data is : 27.0 \n"
     ]
    }
   ],
   "source": [
    "print(\"Mean of test_data Age is : %s, Median of test_data is : %s \" %(test_data[\"Age\"].mean(),test_data[\"Age\"].median()))"
   ]
  },
  {
   "cell_type": "code",
   "execution_count": 16,
   "id": "f93bba78",
   "metadata": {
    "execution": {
     "iopub.execute_input": "2023-09-23T00:14:06.078814Z",
     "iopub.status.busy": "2023-09-23T00:14:06.078440Z",
     "iopub.status.idle": "2023-09-23T00:14:06.085717Z",
     "shell.execute_reply": "2023-09-23T00:14:06.085005Z"
    },
    "papermill": {
     "duration": 0.023071,
     "end_time": "2023-09-23T00:14:06.087702",
     "exception": false,
     "start_time": "2023-09-23T00:14:06.064631",
     "status": "completed"
    },
    "tags": []
   },
   "outputs": [],
   "source": [
    "train_data[\"Age\"].fillna(train_data[\"Age\"].mean(), inplace = True)\n",
    "test_data[\"Age\"].fillna(test_data[\"Age\"].mean(), inplace = True)"
   ]
  },
  {
   "cell_type": "code",
   "execution_count": 17,
   "id": "f4d7201c",
   "metadata": {
    "execution": {
     "iopub.execute_input": "2023-09-23T00:14:06.113873Z",
     "iopub.status.busy": "2023-09-23T00:14:06.113488Z",
     "iopub.status.idle": "2023-09-23T00:14:06.454437Z",
     "shell.execute_reply": "2023-09-23T00:14:06.453175Z"
    },
    "papermill": {
     "duration": 0.356507,
     "end_time": "2023-09-23T00:14:06.456693",
     "exception": false,
     "start_time": "2023-09-23T00:14:06.100186",
     "status": "completed"
    },
    "tags": []
   },
   "outputs": [
    {
     "data": {
      "image/png": "[encoded data removed]",
      "text/plain": [
       "<Figure size 800x800 with 2 Axes>"
      ]
     },
     "metadata": {},
     "output_type": "display_data"
    }
   ],
   "source": [
    "fig, ax = plt.subplots(2,1, figsize = (8,8))\n",
    "\n",
    "ax[0] = sns.countplot(x = train_data[\"Embarked\"], ax = ax[0]);\n",
    "ax[0].set_title(\"Train Data\");\n",
    "ax[0].set_xlabel(\"\")\n",
    "ax[1] = sns.countplot(x = test_data[\"Embarked\"], ax = ax[1]);\n",
    "ax[1].set_title(\"Test Data\");"
   ]
  },
  {
   "cell_type": "code",
   "execution_count": 18,
   "id": "73bdaf9b",
   "metadata": {
    "execution": {
     "iopub.execute_input": "2023-09-23T00:14:06.483311Z",
     "iopub.status.busy": "2023-09-23T00:14:06.482607Z",
     "iopub.status.idle": "2023-09-23T00:14:06.495054Z",
     "shell.execute_reply": "2023-09-23T00:14:06.493694Z"
    },
    "papermill": {
     "duration": 0.028268,
     "end_time": "2023-09-23T00:14:06.497382",
     "exception": false,
     "start_time": "2023-09-23T00:14:06.469114",
     "status": "completed"
    },
    "tags": []
   },
   "outputs": [
    {
     "data": {
      "text/plain": [
       "PassengerId      0\n",
       "Survived         0\n",
       "Pclass           0\n",
       "Name             0\n",
       "Sex              0\n",
       "Age              0\n",
       "SibSp            0\n",
       "Parch            0\n",
       "Ticket           0\n",
       "Fare             0\n",
       "Cabin          687\n",
       "Embarked         0\n",
       "dtype: int64"
      ]
     },
     "execution_count": 18,
     "metadata": {},
     "output_type": "execute_result"
    }
   ],
   "source": [
    "train_data[\"Embarked\"].fillna(train_data[\"Embarked\"].mod, inplace = True)\n",
    "test_data[\"Embarked\"].fillna(test_data[\"Embarked\"].mod, inplace = True)\n",
    "\n",
    "train_data.isnull().sum()"
   ]
  },
  {
   "cell_type": "code",
   "execution_count": 19,
   "id": "446d2a2d",
   "metadata": {
    "execution": {
     "iopub.execute_input": "2023-09-23T00:14:06.525735Z",
     "iopub.status.busy": "2023-09-23T00:14:06.524913Z",
     "iopub.status.idle": "2023-09-23T00:14:06.531286Z",
     "shell.execute_reply": "2023-09-23T00:14:06.529889Z"
    },
    "papermill": {
     "duration": 0.02325,
     "end_time": "2023-09-23T00:14:06.533921",
     "exception": false,
     "start_time": "2023-09-23T00:14:06.510671",
     "status": "completed"
    },
    "tags": []
   },
   "outputs": [],
   "source": [
    "train_cabin_null = (train_data[\"Cabin\"].isnull().sum()/ len(train_data)*100)\n",
    "test_cabin_null = (test_data[\"Cabin\"].isnull().sum()/ len(test_data)*100)"
   ]
  },
  {
   "cell_type": "code",
   "execution_count": 20,
   "id": "9320aaae",
   "metadata": {
    "execution": {
     "iopub.execute_input": "2023-09-23T00:14:06.561539Z",
     "iopub.status.busy": "2023-09-23T00:14:06.561183Z",
     "iopub.status.idle": "2023-09-23T00:14:06.566565Z",
     "shell.execute_reply": "2023-09-23T00:14:06.565413Z"
    },
    "papermill": {
     "duration": 0.021539,
     "end_time": "2023-09-23T00:14:06.568693",
     "exception": false,
     "start_time": "2023-09-23T00:14:06.547154",
     "status": "completed"
    },
    "tags": []
   },
   "outputs": [
    {
     "name": "stdout",
     "output_type": "stream",
     "text": [
      "The rate of missing values in train data's cabin row is 77.10% \n"
     ]
    }
   ],
   "source": [
    "print(\"The rate of missing values in train data's cabin row is %.2f%% \" %train_cabin_null)"
   ]
  },
  {
   "cell_type": "code",
   "execution_count": 21,
   "id": "7250bc86",
   "metadata": {
    "execution": {
     "iopub.execute_input": "2023-09-23T00:14:06.595731Z",
     "iopub.status.busy": "2023-09-23T00:14:06.595394Z",
     "iopub.status.idle": "2023-09-23T00:14:06.600703Z",
     "shell.execute_reply": "2023-09-23T00:14:06.599604Z"
    },
    "papermill": {
     "duration": 0.021514,
     "end_time": "2023-09-23T00:14:06.602720",
     "exception": false,
     "start_time": "2023-09-23T00:14:06.581206",
     "status": "completed"
    },
    "tags": []
   },
   "outputs": [
    {
     "name": "stdout",
     "output_type": "stream",
     "text": [
      "The rate of missing values in test data's cabin row is 78.23% \n"
     ]
    }
   ],
   "source": [
    "print(\"The rate of missing values in test data's cabin row is %.2f%% \" %test_cabin_null)"
   ]
  },
  {
   "cell_type": "code",
   "execution_count": 22,
   "id": "be453d84",
   "metadata": {
    "execution": {
     "iopub.execute_input": "2023-09-23T00:14:06.629773Z",
     "iopub.status.busy": "2023-09-23T00:14:06.629421Z",
     "iopub.status.idle": "2023-09-23T00:14:06.636653Z",
     "shell.execute_reply": "2023-09-23T00:14:06.634968Z"
    },
    "papermill": {
     "duration": 0.023677,
     "end_time": "2023-09-23T00:14:06.639125",
     "exception": false,
     "start_time": "2023-09-23T00:14:06.615448",
     "status": "completed"
    },
    "tags": []
   },
   "outputs": [],
   "source": [
    "test_data = test_data.drop(\"Cabin\", axis = 1)\n",
    "train_data = train_data.drop(\"Cabin\", axis = 1)"
   ]
  },
  {
   "cell_type": "code",
   "execution_count": 23,
   "id": "ff9f304e",
   "metadata": {
    "execution": {
     "iopub.execute_input": "2023-09-23T00:14:06.666141Z",
     "iopub.status.busy": "2023-09-23T00:14:06.665747Z",
     "iopub.status.idle": "2023-09-23T00:14:06.675904Z",
     "shell.execute_reply": "2023-09-23T00:14:06.674740Z"
    },
    "papermill": {
     "duration": 0.02667,
     "end_time": "2023-09-23T00:14:06.678579",
     "exception": false,
     "start_time": "2023-09-23T00:14:06.651909",
     "status": "completed"
    },
    "tags": []
   },
   "outputs": [
    {
     "data": {
      "text/plain": [
       "PassengerId    0\n",
       "Pclass         0\n",
       "Name           0\n",
       "Sex            0\n",
       "Age            0\n",
       "SibSp          0\n",
       "Parch          0\n",
       "Ticket         0\n",
       "Fare           1\n",
       "Embarked       0\n",
       "dtype: int64"
      ]
     },
     "execution_count": 23,
     "metadata": {},
     "output_type": "execute_result"
    }
   ],
   "source": [
    "test_data.isnull().sum()"
   ]
  },
  {
   "cell_type": "code",
   "execution_count": 24,
   "id": "6c06cf8a",
   "metadata": {
    "execution": {
     "iopub.execute_input": "2023-09-23T00:14:06.706063Z",
     "iopub.status.busy": "2023-09-23T00:14:06.705672Z",
     "iopub.status.idle": "2023-09-23T00:14:06.715462Z",
     "shell.execute_reply": "2023-09-23T00:14:06.714489Z"
    },
    "papermill": {
     "duration": 0.025879,
     "end_time": "2023-09-23T00:14:06.717338",
     "exception": false,
     "start_time": "2023-09-23T00:14:06.691459",
     "status": "completed"
    },
    "tags": []
   },
   "outputs": [
    {
     "data": {
      "text/plain": [
       "PassengerId    0\n",
       "Survived       0\n",
       "Pclass         0\n",
       "Name           0\n",
       "Sex            0\n",
       "Age            0\n",
       "SibSp          0\n",
       "Parch          0\n",
       "Ticket         0\n",
       "Fare           0\n",
       "Embarked       0\n",
       "dtype: int64"
      ]
     },
     "execution_count": 24,
     "metadata": {},
     "output_type": "execute_result"
    }
   ],
   "source": [
    "train_data.isnull().sum()"
   ]
  },
  {
   "cell_type": "code",
   "execution_count": 25,
   "id": "e1282559",
   "metadata": {
    "execution": {
     "iopub.execute_input": "2023-09-23T00:14:06.745025Z",
     "iopub.status.busy": "2023-09-23T00:14:06.744638Z",
     "iopub.status.idle": "2023-09-23T00:14:07.083037Z",
     "shell.execute_reply": "2023-09-23T00:14:07.081914Z"
    },
    "papermill": {
     "duration": 0.355533,
     "end_time": "2023-09-23T00:14:07.085432",
     "exception": false,
     "start_time": "2023-09-23T00:14:06.729899",
     "status": "completed"
    },
    "tags": []
   },
   "outputs": [
    {
     "data": {
      "text/plain": [
       "<Axes: xlabel='Fare', ylabel='Count'>"
      ]
     },
     "execution_count": 25,
     "metadata": {},
     "output_type": "execute_result"
    },
    {
     "data": {
      "image/png": "[encoded data removed]",
      "text/plain": [
       "<Figure size 500x500 with 1 Axes>"
      ]
     },
     "metadata": {},
     "output_type": "display_data"
    }
   ],
   "source": [
    "plt.figure(figsize = (5,5))\n",
    "sns.histplot(test_data[\"Fare\"], kde = True)"
   ]
  },
  {
   "cell_type": "code",
   "execution_count": 26,
   "id": "241de333",
   "metadata": {
    "execution": {
     "iopub.execute_input": "2023-09-23T00:14:07.113148Z",
     "iopub.status.busy": "2023-09-23T00:14:07.112822Z",
     "iopub.status.idle": "2023-09-23T00:14:07.118842Z",
     "shell.execute_reply": "2023-09-23T00:14:07.117839Z"
    },
    "papermill": {
     "duration": 0.021989,
     "end_time": "2023-09-23T00:14:07.120512",
     "exception": false,
     "start_time": "2023-09-23T00:14:07.098523",
     "status": "completed"
    },
    "tags": []
   },
   "outputs": [],
   "source": [
    "test_data[\"Fare\"].fillna(test_data[\"Fare\"].median(), inplace = True)"
   ]
  },
  {
   "cell_type": "markdown",
   "id": "bd6acdc3",
   "metadata": {
    "papermill": {
     "duration": 0.012502,
     "end_time": "2023-09-23T00:14:07.146175",
     "exception": false,
     "start_time": "2023-09-23T00:14:07.133673",
     "status": "completed"
    },
    "tags": []
   },
   "source": [
    "## Exploratory Data Analysis (EDA)"
   ]
  },
  {
   "cell_type": "code",
   "execution_count": 27,
   "id": "c51b8f29",
   "metadata": {
    "execution": {
     "iopub.execute_input": "2023-09-23T00:14:07.174114Z",
     "iopub.status.busy": "2023-09-23T00:14:07.173753Z",
     "iopub.status.idle": "2023-09-23T00:14:07.328714Z",
     "shell.execute_reply": "2023-09-23T00:14:07.327949Z"
    },
    "papermill": {
     "duration": 0.171553,
     "end_time": "2023-09-23T00:14:07.330900",
     "exception": false,
     "start_time": "2023-09-23T00:14:07.159347",
     "status": "completed"
    },
    "tags": []
   },
   "outputs": [
    {
     "data": {
      "image/png": "[encoded data removed]",
      "text/plain": [
       "<Figure size 500x500 with 1 Axes>"
      ]
     },
     "metadata": {},
     "output_type": "display_data"
    }
   ],
   "source": [
    "plt.figure(figsize = (5,5))\n",
    "sns.countplot(x = train_data[\"Survived\"], hue = train_data[\"Sex\"])\n",
    "plt.show()"
   ]
  },
  {
   "cell_type": "code",
   "execution_count": 28,
   "id": "ace326ba",
   "metadata": {
    "execution": {
     "iopub.execute_input": "2023-09-23T00:14:07.360548Z",
     "iopub.status.busy": "2023-09-23T00:14:07.360009Z",
     "iopub.status.idle": "2023-09-23T00:14:07.679645Z",
     "shell.execute_reply": "2023-09-23T00:14:07.678783Z"
    },
    "papermill": {
     "duration": 0.337137,
     "end_time": "2023-09-23T00:14:07.682002",
     "exception": false,
     "start_time": "2023-09-23T00:14:07.344865",
     "status": "completed"
    },
    "tags": []
   },
   "outputs": [
    {
     "data": {
      "text/plain": [
       "<Axes: xlabel='Pclass', ylabel='Survived'>"
      ]
     },
     "execution_count": 28,
     "metadata": {},
     "output_type": "execute_result"
    },
    {
     "data": {
      "image/png": "[encoded data removed]",
      "text/plain": [
       "<Figure size 500x500 with 1 Axes>"
      ]
     },
     "metadata": {},
     "output_type": "display_data"
    }
   ],
   "source": [
    "plt.figure(figsize = (5,5))\n",
    "sns.barplot(x = train_data[\"Pclass\"], y = train_data[\"Survived\"], hue = train_data[\"Sex\"])"
   ]
  },
  {
   "cell_type": "code",
   "execution_count": 29,
   "id": "8135aaf9",
   "metadata": {
    "execution": {
     "iopub.execute_input": "2023-09-23T00:14:07.712112Z",
     "iopub.status.busy": "2023-09-23T00:14:07.711441Z",
     "iopub.status.idle": "2023-09-23T00:14:08.044556Z",
     "shell.execute_reply": "2023-09-23T00:14:08.043128Z"
    },
    "papermill": {
     "duration": 0.350108,
     "end_time": "2023-09-23T00:14:08.046638",
     "exception": false,
     "start_time": "2023-09-23T00:14:07.696530",
     "status": "completed"
    },
    "tags": []
   },
   "outputs": [
    {
     "data": {
      "image/png": "[encoded data removed]",
      "text/plain": [
       "<Figure size 500x500 with 1 Axes>"
      ]
     },
     "metadata": {},
     "output_type": "display_data"
    }
   ],
   "source": [
    "plt.figure(figsize = (5,5));\n",
    "sns.barplot(x = \"SibSp\", y = \"Survived\", data = train_data);"
   ]
  },
  {
   "cell_type": "markdown",
   "id": "594dbe2b",
   "metadata": {
    "papermill": {
     "duration": 0.013604,
     "end_time": "2023-09-23T00:14:08.074979",
     "exception": false,
     "start_time": "2023-09-23T00:14:08.061375",
     "status": "completed"
    },
    "tags": []
   },
   "source": [
    "### Create New Column from SibSp and Parch"
   ]
  },
  {
   "cell_type": "code",
   "execution_count": 30,
   "id": "42eaa4f8",
   "metadata": {
    "execution": {
     "iopub.execute_input": "2023-09-23T00:14:08.105968Z",
     "iopub.status.busy": "2023-09-23T00:14:08.105586Z",
     "iopub.status.idle": "2023-09-23T00:14:08.336978Z",
     "shell.execute_reply": "2023-09-23T00:14:08.335950Z"
    },
    "papermill": {
     "duration": 0.249556,
     "end_time": "2023-09-23T00:14:08.339436",
     "exception": false,
     "start_time": "2023-09-23T00:14:08.089880",
     "status": "completed"
    },
    "tags": []
   },
   "outputs": [],
   "source": [
    "train_data[\"Alone\"]= np.zeros(len(train_data))\n",
    "\n",
    "for i in range (len(train_data)):\n",
    "    if (train_data[\"SibSp\"][i] + train_data[\"Parch\"][i] == 0):\n",
    "        train_data[\"Alone\"][i] = int(1)\n",
    "        \n",
    "test_data[\"Alone\"]= np.zeros(len(test_data))\n",
    "\n",
    "for i in range (len(test_data)):\n",
    "    if (test_data[\"SibSp\"][i] + test_data[\"Parch\"][i] == 0):\n",
    "        test_data[\"Alone\"][i] = int(1)"
   ]
  },
  {
   "cell_type": "code",
   "execution_count": 31,
   "id": "995a5e43",
   "metadata": {
    "execution": {
     "iopub.execute_input": "2023-09-23T00:14:08.369072Z",
     "iopub.status.busy": "2023-09-23T00:14:08.368712Z",
     "iopub.status.idle": "2023-09-23T00:14:08.577841Z",
     "shell.execute_reply": "2023-09-23T00:14:08.576623Z"
    },
    "papermill": {
     "duration": 0.227111,
     "end_time": "2023-09-23T00:14:08.580570",
     "exception": false,
     "start_time": "2023-09-23T00:14:08.353459",
     "status": "completed"
    },
    "tags": []
   },
   "outputs": [
    {
     "data": {
      "image/png": "[encoded data removed]",
      "text/plain": [
       "<Figure size 800x800 with 1 Axes>"
      ]
     },
     "metadata": {},
     "output_type": "display_data"
    }
   ],
   "source": [
    "plt.figure(figsize = (8,8))\n",
    "sns.barplot(x = \"Alone\", y = \"Survived\", data = train_data);"
   ]
  },
  {
   "cell_type": "markdown",
   "id": "b7e1d6b8",
   "metadata": {
    "papermill": {
     "duration": 0.013555,
     "end_time": "2023-09-23T00:14:08.608625",
     "exception": false,
     "start_time": "2023-09-23T00:14:08.595070",
     "status": "completed"
    },
    "tags": []
   },
   "source": [
    "## Dropping Unnecessary Columns"
   ]
  },
  {
   "cell_type": "code",
   "execution_count": 32,
   "id": "c14b1325",
   "metadata": {
    "execution": {
     "iopub.execute_input": "2023-09-23T00:14:08.638140Z",
     "iopub.status.busy": "2023-09-23T00:14:08.637830Z",
     "iopub.status.idle": "2023-09-23T00:14:08.644625Z",
     "shell.execute_reply": "2023-09-23T00:14:08.643477Z"
    },
    "papermill": {
     "duration": 0.02374,
     "end_time": "2023-09-23T00:14:08.646303",
     "exception": false,
     "start_time": "2023-09-23T00:14:08.622563",
     "status": "completed"
    },
    "tags": []
   },
   "outputs": [],
   "source": [
    "drop_col = [\"PassengerId\", \"Name\",\"Ticket\"]\n",
    "\n",
    "train_data.drop(drop_col, axis = 1, inplace = True)\n",
    "test_data.drop(drop_col, axis = 1, inplace = True)"
   ]
  },
  {
   "cell_type": "code",
   "execution_count": 33,
   "id": "4847b1ff",
   "metadata": {
    "execution": {
     "iopub.execute_input": "2023-09-23T00:14:08.676666Z",
     "iopub.status.busy": "2023-09-23T00:14:08.676095Z",
     "iopub.status.idle": "2023-09-23T00:14:08.680215Z",
     "shell.execute_reply": "2023-09-23T00:14:08.679646Z"
    },
    "papermill": {
     "duration": 0.021072,
     "end_time": "2023-09-23T00:14:08.681986",
     "exception": false,
     "start_time": "2023-09-23T00:14:08.660914",
     "status": "completed"
    },
    "tags": []
   },
   "outputs": [
    {
     "name": "stdout",
     "output_type": "stream",
     "text": [
      "Test Data Shape :(418, 8), Train Data Shape:(891, 9) \n"
     ]
    }
   ],
   "source": [
    "print ( \"Test Data Shape :%s, Train Data Shape:%s \" %(test_data.shape, train_data.shape))"
   ]
  },
  {
   "cell_type": "markdown",
   "id": "450fbbf2",
   "metadata": {
    "papermill": {
     "duration": 0.01373,
     "end_time": "2023-09-23T00:14:08.709884",
     "exception": false,
     "start_time": "2023-09-23T00:14:08.696154",
     "status": "completed"
    },
    "tags": []
   },
   "source": [
    "### One-Hot Encoding"
   ]
  },
  {
   "cell_type": "code",
   "execution_count": 34,
   "id": "ed992516",
   "metadata": {
    "execution": {
     "iopub.execute_input": "2023-09-23T00:14:08.740863Z",
     "iopub.status.busy": "2023-09-23T00:14:08.740193Z",
     "iopub.status.idle": "2023-09-23T00:14:08.752145Z",
     "shell.execute_reply": "2023-09-23T00:14:08.751422Z"
    },
    "papermill": {
     "duration": 0.029367,
     "end_time": "2023-09-23T00:14:08.754061",
     "exception": false,
     "start_time": "2023-09-23T00:14:08.724694",
     "status": "completed"
    },
    "tags": []
   },
   "outputs": [
    {
     "data": {
      "text/html": [
       "<div>\n",
       "<style scoped>\n",
       "    .dataframe tbody tr th:only-of-type {\n",
       "        vertical-align: middle;\n",
       "    }\n",
       "\n",
       "    .dataframe tbody tr th {\n",
       "        vertical-align: top;\n",
       "    }\n",
       "\n",
       "    .dataframe thead th {\n",
       "        text-align: right;\n",
       "    }\n",
       "</style>\n",
       "<table border=\"1\" class=\"dataframe\">\n",
       "  <thead>\n",
       "    <tr style=\"text-align: right;\">\n",
       "      <th></th>\n",
       "      <th>Survived</th>\n",
       "      <th>Pclass</th>\n",
       "      <th>Sex</th>\n",
       "      <th>Age</th>\n",
       "      <th>SibSp</th>\n",
       "      <th>Parch</th>\n",
       "      <th>Fare</th>\n",
       "      <th>Embarked</th>\n",
       "      <th>Alone</th>\n",
       "    </tr>\n",
       "  </thead>\n",
       "  <tbody>\n",
       "    <tr>\n",
       "      <th>0</th>\n",
       "      <td>0</td>\n",
       "      <td>3</td>\n",
       "      <td>male</td>\n",
       "      <td>22.0</td>\n",
       "      <td>1</td>\n",
       "      <td>0</td>\n",
       "      <td>7.2500</td>\n",
       "      <td>S</td>\n",
       "      <td>0.0</td>\n",
       "    </tr>\n",
       "    <tr>\n",
       "      <th>1</th>\n",
       "      <td>1</td>\n",
       "      <td>1</td>\n",
       "      <td>female</td>\n",
       "      <td>38.0</td>\n",
       "      <td>1</td>\n",
       "      <td>0</td>\n",
       "      <td>71.2833</td>\n",
       "      <td>C</td>\n",
       "      <td>0.0</td>\n",
       "    </tr>\n",
       "    <tr>\n",
       "      <th>2</th>\n",
       "      <td>1</td>\n",
       "      <td>3</td>\n",
       "      <td>female</td>\n",
       "      <td>26.0</td>\n",
       "      <td>0</td>\n",
       "      <td>0</td>\n",
       "      <td>7.9250</td>\n",
       "      <td>S</td>\n",
       "      <td>1.0</td>\n",
       "    </tr>\n",
       "    <tr>\n",
       "      <th>3</th>\n",
       "      <td>1</td>\n",
       "      <td>1</td>\n",
       "      <td>female</td>\n",
       "      <td>35.0</td>\n",
       "      <td>1</td>\n",
       "      <td>0</td>\n",
       "      <td>53.1000</td>\n",
       "      <td>S</td>\n",
       "      <td>0.0</td>\n",
       "    </tr>\n",
       "    <tr>\n",
       "      <th>4</th>\n",
       "      <td>0</td>\n",
       "      <td>3</td>\n",
       "      <td>male</td>\n",
       "      <td>35.0</td>\n",
       "      <td>0</td>\n",
       "      <td>0</td>\n",
       "      <td>8.0500</td>\n",
       "      <td>S</td>\n",
       "      <td>1.0</td>\n",
       "    </tr>\n",
       "  </tbody>\n",
       "</table>\n",
       "</div>"
      ],
      "text/plain": [
       "   Survived  Pclass     Sex   Age  SibSp  Parch     Fare Embarked  Alone\n",
       "0         0       3    male  22.0      1      0   7.2500        S    0.0\n",
       "1         1       1  female  38.0      1      0  71.2833        C    0.0\n",
       "2         1       3  female  26.0      0      0   7.9250        S    1.0\n",
       "3         1       1  female  35.0      1      0  53.1000        S    0.0\n",
       "4         0       3    male  35.0      0      0   8.0500        S    1.0"
      ]
     },
     "execution_count": 34,
     "metadata": {},
     "output_type": "execute_result"
    }
   ],
   "source": [
    "train_data.head()"
   ]
  },
  {
   "cell_type": "code",
   "execution_count": 35,
   "id": "60fd7eae",
   "metadata": {
    "execution": {
     "iopub.execute_input": "2023-09-23T00:14:08.784279Z",
     "iopub.status.busy": "2023-09-23T00:14:08.783919Z",
     "iopub.status.idle": "2023-09-23T00:14:08.800207Z",
     "shell.execute_reply": "2023-09-23T00:14:08.798400Z"
    },
    "papermill": {
     "duration": 0.034373,
     "end_time": "2023-09-23T00:14:08.802677",
     "exception": false,
     "start_time": "2023-09-23T00:14:08.768304",
     "status": "completed"
    },
    "tags": []
   },
   "outputs": [],
   "source": [
    "train_data_encoded = pd.get_dummies(train_data, columns = [\"Sex\"])\n",
    "train_data_encoded = pd.get_dummies(train_data_encoded, columns = [\"Embarked\"])"
   ]
  },
  {
   "cell_type": "code",
   "execution_count": 36,
   "id": "ed25e7ee",
   "metadata": {
    "execution": {
     "iopub.execute_input": "2023-09-23T00:14:08.834091Z",
     "iopub.status.busy": "2023-09-23T00:14:08.833734Z",
     "iopub.status.idle": "2023-09-23T00:14:08.841241Z",
     "shell.execute_reply": "2023-09-23T00:14:08.839907Z"
    },
    "papermill": {
     "duration": 0.026322,
     "end_time": "2023-09-23T00:14:08.843857",
     "exception": false,
     "start_time": "2023-09-23T00:14:08.817535",
     "status": "completed"
    },
    "tags": []
   },
   "outputs": [
    {
     "data": {
      "text/plain": [
       "Index(['Survived', 'Pclass', 'Age', 'SibSp', 'Parch', 'Fare', 'Alone',\n",
       "       'Sex_female', 'Sex_male',\n",
       "       'Embarked_<bound method flex_method_SERIES.<locals>.flex_wrapper of 0      S\\n1      C\\n2      S\\n3      S\\n4      S\\n      ..\\n886    S\\n887    S\\n888    S\\n889    C\\n890    Q\\nName: Embarked, Length: 891, dtype: object>',\n",
       "       'Embarked_C', 'Embarked_Q', 'Embarked_S'],\n",
       "      dtype='object')"
      ]
     },
     "execution_count": 36,
     "metadata": {},
     "output_type": "execute_result"
    }
   ],
   "source": [
    "train_data_encoded.columns"
   ]
  },
  {
   "cell_type": "code",
   "execution_count": 37,
   "id": "8cdacc37",
   "metadata": {
    "execution": {
     "iopub.execute_input": "2023-09-23T00:14:08.875516Z",
     "iopub.status.busy": "2023-09-23T00:14:08.874510Z",
     "iopub.status.idle": "2023-09-23T00:14:08.880381Z",
     "shell.execute_reply": "2023-09-23T00:14:08.879312Z"
    },
    "papermill": {
     "duration": 0.024101,
     "end_time": "2023-09-23T00:14:08.882715",
     "exception": false,
     "start_time": "2023-09-23T00:14:08.858614",
     "status": "completed"
    },
    "tags": []
   },
   "outputs": [],
   "source": [
    "train_data_encoded.drop( 'Embarked_<bound method flex_method_SERIES.<locals>.flex_wrapper of 0      S\\n1      C\\n2      S\\n3      S\\n4      S\\n      ..\\n886    S\\n887    S\\n888    S\\n889    C\\n890    Q\\nName: Embarked, Length: 891, dtype: object>', axis = 1, inplace = True)"
   ]
  },
  {
   "cell_type": "code",
   "execution_count": 38,
   "id": "a062628c",
   "metadata": {
    "execution": {
     "iopub.execute_input": "2023-09-23T00:14:08.915653Z",
     "iopub.status.busy": "2023-09-23T00:14:08.914689Z",
     "iopub.status.idle": "2023-09-23T00:14:08.941039Z",
     "shell.execute_reply": "2023-09-23T00:14:08.940042Z"
    },
    "papermill": {
     "duration": 0.045071,
     "end_time": "2023-09-23T00:14:08.943375",
     "exception": false,
     "start_time": "2023-09-23T00:14:08.898304",
     "status": "completed"
    },
    "tags": []
   },
   "outputs": [],
   "source": [
    "for i in range (len(train_data_encoded)):\n",
    "                if (train_data_encoded[\"Embarked_S\"][i] + train_data_encoded[\"Embarked_Q\"][i] +train_data_encoded[\"Embarked_C\"][i] == 0):\n",
    "                    train_data_encoded[\"Embarked_S\"][i] = 1\n",
    "                \n",
    "                "
   ]
  },
  {
   "cell_type": "code",
   "execution_count": 39,
   "id": "bdfbf43c",
   "metadata": {
    "execution": {
     "iopub.execute_input": "2023-09-23T00:14:08.974783Z",
     "iopub.status.busy": "2023-09-23T00:14:08.974371Z",
     "iopub.status.idle": "2023-09-23T00:14:08.989804Z",
     "shell.execute_reply": "2023-09-23T00:14:08.988787Z"
    },
    "papermill": {
     "duration": 0.033184,
     "end_time": "2023-09-23T00:14:08.991659",
     "exception": false,
     "start_time": "2023-09-23T00:14:08.958475",
     "status": "completed"
    },
    "tags": []
   },
   "outputs": [
    {
     "data": {
      "text/html": [
       "<div>\n",
       "<style scoped>\n",
       "    .dataframe tbody tr th:only-of-type {\n",
       "        vertical-align: middle;\n",
       "    }\n",
       "\n",
       "    .dataframe tbody tr th {\n",
       "        vertical-align: top;\n",
       "    }\n",
       "\n",
       "    .dataframe thead th {\n",
       "        text-align: right;\n",
       "    }\n",
       "</style>\n",
       "<table border=\"1\" class=\"dataframe\">\n",
       "  <thead>\n",
       "    <tr style=\"text-align: right;\">\n",
       "      <th></th>\n",
       "      <th>Survived</th>\n",
       "      <th>Pclass</th>\n",
       "      <th>Age</th>\n",
       "      <th>SibSp</th>\n",
       "      <th>Parch</th>\n",
       "      <th>Fare</th>\n",
       "      <th>Alone</th>\n",
       "      <th>Sex_female</th>\n",
       "      <th>Sex_male</th>\n",
       "      <th>Embarked_C</th>\n",
       "      <th>Embarked_Q</th>\n",
       "      <th>Embarked_S</th>\n",
       "    </tr>\n",
       "  </thead>\n",
       "  <tbody>\n",
       "    <tr>\n",
       "      <th>0</th>\n",
       "      <td>0</td>\n",
       "      <td>3</td>\n",
       "      <td>22.0</td>\n",
       "      <td>1</td>\n",
       "      <td>0</td>\n",
       "      <td>7.2500</td>\n",
       "      <td>0.0</td>\n",
       "      <td>0</td>\n",
       "      <td>1</td>\n",
       "      <td>0</td>\n",
       "      <td>0</td>\n",
       "      <td>1</td>\n",
       "    </tr>\n",
       "    <tr>\n",
       "      <th>1</th>\n",
       "      <td>1</td>\n",
       "      <td>1</td>\n",
       "      <td>38.0</td>\n",
       "      <td>1</td>\n",
       "      <td>0</td>\n",
       "      <td>71.2833</td>\n",
       "      <td>0.0</td>\n",
       "      <td>1</td>\n",
       "      <td>0</td>\n",
       "      <td>1</td>\n",
       "      <td>0</td>\n",
       "      <td>0</td>\n",
       "    </tr>\n",
       "    <tr>\n",
       "      <th>2</th>\n",
       "      <td>1</td>\n",
       "      <td>3</td>\n",
       "      <td>26.0</td>\n",
       "      <td>0</td>\n",
       "      <td>0</td>\n",
       "      <td>7.9250</td>\n",
       "      <td>1.0</td>\n",
       "      <td>1</td>\n",
       "      <td>0</td>\n",
       "      <td>0</td>\n",
       "      <td>0</td>\n",
       "      <td>1</td>\n",
       "    </tr>\n",
       "    <tr>\n",
       "      <th>3</th>\n",
       "      <td>1</td>\n",
       "      <td>1</td>\n",
       "      <td>35.0</td>\n",
       "      <td>1</td>\n",
       "      <td>0</td>\n",
       "      <td>53.1000</td>\n",
       "      <td>0.0</td>\n",
       "      <td>1</td>\n",
       "      <td>0</td>\n",
       "      <td>0</td>\n",
       "      <td>0</td>\n",
       "      <td>1</td>\n",
       "    </tr>\n",
       "    <tr>\n",
       "      <th>4</th>\n",
       "      <td>0</td>\n",
       "      <td>3</td>\n",
       "      <td>35.0</td>\n",
       "      <td>0</td>\n",
       "      <td>0</td>\n",
       "      <td>8.0500</td>\n",
       "      <td>1.0</td>\n",
       "      <td>0</td>\n",
       "      <td>1</td>\n",
       "      <td>0</td>\n",
       "      <td>0</td>\n",
       "      <td>1</td>\n",
       "    </tr>\n",
       "  </tbody>\n",
       "</table>\n",
       "</div>"
      ],
      "text/plain": [
       "   Survived  Pclass   Age  SibSp  Parch     Fare  Alone  Sex_female  Sex_male  \\\n",
       "0         0       3  22.0      1      0   7.2500    0.0           0         1   \n",
       "1         1       1  38.0      1      0  71.2833    0.0           1         0   \n",
       "2         1       3  26.0      0      0   7.9250    1.0           1         0   \n",
       "3         1       1  35.0      1      0  53.1000    0.0           1         0   \n",
       "4         0       3  35.0      0      0   8.0500    1.0           0         1   \n",
       "\n",
       "   Embarked_C  Embarked_Q  Embarked_S  \n",
       "0           0           0           1  \n",
       "1           1           0           0  \n",
       "2           0           0           1  \n",
       "3           0           0           1  \n",
       "4           0           0           1  "
      ]
     },
     "execution_count": 39,
     "metadata": {},
     "output_type": "execute_result"
    }
   ],
   "source": [
    "train_data_encoded.head()"
   ]
  },
  {
   "cell_type": "code",
   "execution_count": 40,
   "id": "5a98451e",
   "metadata": {
    "execution": {
     "iopub.execute_input": "2023-09-23T00:14:09.023360Z",
     "iopub.status.busy": "2023-09-23T00:14:09.022216Z",
     "iopub.status.idle": "2023-09-23T00:14:09.032523Z",
     "shell.execute_reply": "2023-09-23T00:14:09.031473Z"
    },
    "papermill": {
     "duration": 0.028263,
     "end_time": "2023-09-23T00:14:09.034807",
     "exception": false,
     "start_time": "2023-09-23T00:14:09.006544",
     "status": "completed"
    },
    "tags": []
   },
   "outputs": [],
   "source": [
    "test_data_encoded = pd.get_dummies(test_data, columns = [\"Sex\"])\n",
    "test_data_encoded = pd.get_dummies(test_data_encoded, columns = [\"Embarked\"])"
   ]
  },
  {
   "cell_type": "code",
   "execution_count": 41,
   "id": "0b3c4269",
   "metadata": {
    "execution": {
     "iopub.execute_input": "2023-09-23T00:14:09.066120Z",
     "iopub.status.busy": "2023-09-23T00:14:09.065502Z",
     "iopub.status.idle": "2023-09-23T00:14:09.077633Z",
     "shell.execute_reply": "2023-09-23T00:14:09.076787Z"
    },
    "papermill": {
     "duration": 0.030038,
     "end_time": "2023-09-23T00:14:09.079626",
     "exception": false,
     "start_time": "2023-09-23T00:14:09.049588",
     "status": "completed"
    },
    "tags": []
   },
   "outputs": [
    {
     "data": {
      "text/html": [
       "<div>\n",
       "<style scoped>\n",
       "    .dataframe tbody tr th:only-of-type {\n",
       "        vertical-align: middle;\n",
       "    }\n",
       "\n",
       "    .dataframe tbody tr th {\n",
       "        vertical-align: top;\n",
       "    }\n",
       "\n",
       "    .dataframe thead th {\n",
       "        text-align: right;\n",
       "    }\n",
       "</style>\n",
       "<table border=\"1\" class=\"dataframe\">\n",
       "  <thead>\n",
       "    <tr style=\"text-align: right;\">\n",
       "      <th></th>\n",
       "      <th>Pclass</th>\n",
       "      <th>Age</th>\n",
       "      <th>SibSp</th>\n",
       "      <th>Parch</th>\n",
       "      <th>Fare</th>\n",
       "      <th>Alone</th>\n",
       "      <th>Sex_female</th>\n",
       "      <th>Sex_male</th>\n",
       "      <th>Embarked_C</th>\n",
       "      <th>Embarked_Q</th>\n",
       "      <th>Embarked_S</th>\n",
       "    </tr>\n",
       "  </thead>\n",
       "  <tbody>\n",
       "    <tr>\n",
       "      <th>0</th>\n",
       "      <td>3</td>\n",
       "      <td>34.5</td>\n",
       "      <td>0</td>\n",
       "      <td>0</td>\n",
       "      <td>7.8292</td>\n",
       "      <td>1.0</td>\n",
       "      <td>0</td>\n",
       "      <td>1</td>\n",
       "      <td>0</td>\n",
       "      <td>1</td>\n",
       "      <td>0</td>\n",
       "    </tr>\n",
       "    <tr>\n",
       "      <th>1</th>\n",
       "      <td>3</td>\n",
       "      <td>47.0</td>\n",
       "      <td>1</td>\n",
       "      <td>0</td>\n",
       "      <td>7.0000</td>\n",
       "      <td>0.0</td>\n",
       "      <td>1</td>\n",
       "      <td>0</td>\n",
       "      <td>0</td>\n",
       "      <td>0</td>\n",
       "      <td>1</td>\n",
       "    </tr>\n",
       "    <tr>\n",
       "      <th>2</th>\n",
       "      <td>2</td>\n",
       "      <td>62.0</td>\n",
       "      <td>0</td>\n",
       "      <td>0</td>\n",
       "      <td>9.6875</td>\n",
       "      <td>1.0</td>\n",
       "      <td>0</td>\n",
       "      <td>1</td>\n",
       "      <td>0</td>\n",
       "      <td>1</td>\n",
       "      <td>0</td>\n",
       "    </tr>\n",
       "    <tr>\n",
       "      <th>3</th>\n",
       "      <td>3</td>\n",
       "      <td>27.0</td>\n",
       "      <td>0</td>\n",
       "      <td>0</td>\n",
       "      <td>8.6625</td>\n",
       "      <td>1.0</td>\n",
       "      <td>0</td>\n",
       "      <td>1</td>\n",
       "      <td>0</td>\n",
       "      <td>0</td>\n",
       "      <td>1</td>\n",
       "    </tr>\n",
       "    <tr>\n",
       "      <th>4</th>\n",
       "      <td>3</td>\n",
       "      <td>22.0</td>\n",
       "      <td>1</td>\n",
       "      <td>1</td>\n",
       "      <td>12.2875</td>\n",
       "      <td>0.0</td>\n",
       "      <td>1</td>\n",
       "      <td>0</td>\n",
       "      <td>0</td>\n",
       "      <td>0</td>\n",
       "      <td>1</td>\n",
       "    </tr>\n",
       "  </tbody>\n",
       "</table>\n",
       "</div>"
      ],
      "text/plain": [
       "   Pclass   Age  SibSp  Parch     Fare  Alone  Sex_female  Sex_male  \\\n",
       "0       3  34.5      0      0   7.8292    1.0           0         1   \n",
       "1       3  47.0      1      0   7.0000    0.0           1         0   \n",
       "2       2  62.0      0      0   9.6875    1.0           0         1   \n",
       "3       3  27.0      0      0   8.6625    1.0           0         1   \n",
       "4       3  22.0      1      1  12.2875    0.0           1         0   \n",
       "\n",
       "   Embarked_C  Embarked_Q  Embarked_S  \n",
       "0           0           1           0  \n",
       "1           0           0           1  \n",
       "2           0           1           0  \n",
       "3           0           0           1  \n",
       "4           0           0           1  "
      ]
     },
     "execution_count": 41,
     "metadata": {},
     "output_type": "execute_result"
    }
   ],
   "source": [
    "test_data_encoded.head()"
   ]
  },
  {
   "cell_type": "markdown",
   "id": "c9086e38",
   "metadata": {
    "papermill": {
     "duration": 0.014233,
     "end_time": "2023-09-23T00:14:09.108439",
     "exception": false,
     "start_time": "2023-09-23T00:14:09.094206",
     "status": "completed"
    },
    "tags": []
   },
   "source": [
    "## Drop Unnecessary Columns"
   ]
  },
  {
   "cell_type": "code",
   "execution_count": 42,
   "id": "8683ec4d",
   "metadata": {
    "execution": {
     "iopub.execute_input": "2023-09-23T00:14:09.139947Z",
     "iopub.status.busy": "2023-09-23T00:14:09.139594Z",
     "iopub.status.idle": "2023-09-23T00:14:09.145472Z",
     "shell.execute_reply": "2023-09-23T00:14:09.144813Z"
    },
    "papermill": {
     "duration": 0.023746,
     "end_time": "2023-09-23T00:14:09.147029",
     "exception": false,
     "start_time": "2023-09-23T00:14:09.123283",
     "status": "completed"
    },
    "tags": []
   },
   "outputs": [],
   "source": [
    "drop_cols = [\"Sex_female\", \"Embarked_C\"]\n",
    "\n",
    "train_data_encoded.drop(drop_cols, axis = 1, inplace = True)\n",
    "test_data_encoded.drop(drop_cols, axis = 1, inplace = True)"
   ]
  },
  {
   "cell_type": "code",
   "execution_count": 43,
   "id": "55f95cc4",
   "metadata": {
    "execution": {
     "iopub.execute_input": "2023-09-23T00:14:09.178911Z",
     "iopub.status.busy": "2023-09-23T00:14:09.178035Z",
     "iopub.status.idle": "2023-09-23T00:14:09.191416Z",
     "shell.execute_reply": "2023-09-23T00:14:09.190716Z"
    },
    "papermill": {
     "duration": 0.030999,
     "end_time": "2023-09-23T00:14:09.193028",
     "exception": false,
     "start_time": "2023-09-23T00:14:09.162029",
     "status": "completed"
    },
    "tags": []
   },
   "outputs": [
    {
     "data": {
      "text/html": [
       "<div>\n",
       "<style scoped>\n",
       "    .dataframe tbody tr th:only-of-type {\n",
       "        vertical-align: middle;\n",
       "    }\n",
       "\n",
       "    .dataframe tbody tr th {\n",
       "        vertical-align: top;\n",
       "    }\n",
       "\n",
       "    .dataframe thead th {\n",
       "        text-align: right;\n",
       "    }\n",
       "</style>\n",
       "<table border=\"1\" class=\"dataframe\">\n",
       "  <thead>\n",
       "    <tr style=\"text-align: right;\">\n",
       "      <th></th>\n",
       "      <th>Survived</th>\n",
       "      <th>Pclass</th>\n",
       "      <th>Age</th>\n",
       "      <th>SibSp</th>\n",
       "      <th>Parch</th>\n",
       "      <th>Fare</th>\n",
       "      <th>Alone</th>\n",
       "      <th>Sex_male</th>\n",
       "      <th>Embarked_Q</th>\n",
       "      <th>Embarked_S</th>\n",
       "    </tr>\n",
       "  </thead>\n",
       "  <tbody>\n",
       "    <tr>\n",
       "      <th>0</th>\n",
       "      <td>0</td>\n",
       "      <td>3</td>\n",
       "      <td>22.0</td>\n",
       "      <td>1</td>\n",
       "      <td>0</td>\n",
       "      <td>7.2500</td>\n",
       "      <td>0.0</td>\n",
       "      <td>1</td>\n",
       "      <td>0</td>\n",
       "      <td>1</td>\n",
       "    </tr>\n",
       "    <tr>\n",
       "      <th>1</th>\n",
       "      <td>1</td>\n",
       "      <td>1</td>\n",
       "      <td>38.0</td>\n",
       "      <td>1</td>\n",
       "      <td>0</td>\n",
       "      <td>71.2833</td>\n",
       "      <td>0.0</td>\n",
       "      <td>0</td>\n",
       "      <td>0</td>\n",
       "      <td>0</td>\n",
       "    </tr>\n",
       "    <tr>\n",
       "      <th>2</th>\n",
       "      <td>1</td>\n",
       "      <td>3</td>\n",
       "      <td>26.0</td>\n",
       "      <td>0</td>\n",
       "      <td>0</td>\n",
       "      <td>7.9250</td>\n",
       "      <td>1.0</td>\n",
       "      <td>0</td>\n",
       "      <td>0</td>\n",
       "      <td>1</td>\n",
       "    </tr>\n",
       "    <tr>\n",
       "      <th>3</th>\n",
       "      <td>1</td>\n",
       "      <td>1</td>\n",
       "      <td>35.0</td>\n",
       "      <td>1</td>\n",
       "      <td>0</td>\n",
       "      <td>53.1000</td>\n",
       "      <td>0.0</td>\n",
       "      <td>0</td>\n",
       "      <td>0</td>\n",
       "      <td>1</td>\n",
       "    </tr>\n",
       "    <tr>\n",
       "      <th>4</th>\n",
       "      <td>0</td>\n",
       "      <td>3</td>\n",
       "      <td>35.0</td>\n",
       "      <td>0</td>\n",
       "      <td>0</td>\n",
       "      <td>8.0500</td>\n",
       "      <td>1.0</td>\n",
       "      <td>1</td>\n",
       "      <td>0</td>\n",
       "      <td>1</td>\n",
       "    </tr>\n",
       "  </tbody>\n",
       "</table>\n",
       "</div>"
      ],
      "text/plain": [
       "   Survived  Pclass   Age  SibSp  Parch     Fare  Alone  Sex_male  Embarked_Q  \\\n",
       "0         0       3  22.0      1      0   7.2500    0.0         1           0   \n",
       "1         1       1  38.0      1      0  71.2833    0.0         0           0   \n",
       "2         1       3  26.0      0      0   7.9250    1.0         0           0   \n",
       "3         1       1  35.0      1      0  53.1000    0.0         0           0   \n",
       "4         0       3  35.0      0      0   8.0500    1.0         1           0   \n",
       "\n",
       "   Embarked_S  \n",
       "0           1  \n",
       "1           0  \n",
       "2           1  \n",
       "3           1  \n",
       "4           1  "
      ]
     },
     "execution_count": 43,
     "metadata": {},
     "output_type": "execute_result"
    }
   ],
   "source": [
    "train_data_encoded.head()"
   ]
  },
  {
   "cell_type": "code",
   "execution_count": 44,
   "id": "1a318e10",
   "metadata": {
    "execution": {
     "iopub.execute_input": "2023-09-23T00:14:09.225557Z",
     "iopub.status.busy": "2023-09-23T00:14:09.225049Z",
     "iopub.status.idle": "2023-09-23T00:14:09.235820Z",
     "shell.execute_reply": "2023-09-23T00:14:09.235101Z"
    },
    "papermill": {
     "duration": 0.029857,
     "end_time": "2023-09-23T00:14:09.237531",
     "exception": false,
     "start_time": "2023-09-23T00:14:09.207674",
     "status": "completed"
    },
    "tags": []
   },
   "outputs": [
    {
     "data": {
      "text/html": [
       "<div>\n",
       "<style scoped>\n",
       "    .dataframe tbody tr th:only-of-type {\n",
       "        vertical-align: middle;\n",
       "    }\n",
       "\n",
       "    .dataframe tbody tr th {\n",
       "        vertical-align: top;\n",
       "    }\n",
       "\n",
       "    .dataframe thead th {\n",
       "        text-align: right;\n",
       "    }\n",
       "</style>\n",
       "<table border=\"1\" class=\"dataframe\">\n",
       "  <thead>\n",
       "    <tr style=\"text-align: right;\">\n",
       "      <th></th>\n",
       "      <th>Pclass</th>\n",
       "      <th>Age</th>\n",
       "      <th>SibSp</th>\n",
       "      <th>Parch</th>\n",
       "      <th>Fare</th>\n",
       "      <th>Alone</th>\n",
       "      <th>Sex_male</th>\n",
       "      <th>Embarked_Q</th>\n",
       "      <th>Embarked_S</th>\n",
       "    </tr>\n",
       "  </thead>\n",
       "  <tbody>\n",
       "    <tr>\n",
       "      <th>0</th>\n",
       "      <td>3</td>\n",
       "      <td>34.5</td>\n",
       "      <td>0</td>\n",
       "      <td>0</td>\n",
       "      <td>7.8292</td>\n",
       "      <td>1.0</td>\n",
       "      <td>1</td>\n",
       "      <td>1</td>\n",
       "      <td>0</td>\n",
       "    </tr>\n",
       "    <tr>\n",
       "      <th>1</th>\n",
       "      <td>3</td>\n",
       "      <td>47.0</td>\n",
       "      <td>1</td>\n",
       "      <td>0</td>\n",
       "      <td>7.0000</td>\n",
       "      <td>0.0</td>\n",
       "      <td>0</td>\n",
       "      <td>0</td>\n",
       "      <td>1</td>\n",
       "    </tr>\n",
       "    <tr>\n",
       "      <th>2</th>\n",
       "      <td>2</td>\n",
       "      <td>62.0</td>\n",
       "      <td>0</td>\n",
       "      <td>0</td>\n",
       "      <td>9.6875</td>\n",
       "      <td>1.0</td>\n",
       "      <td>1</td>\n",
       "      <td>1</td>\n",
       "      <td>0</td>\n",
       "    </tr>\n",
       "    <tr>\n",
       "      <th>3</th>\n",
       "      <td>3</td>\n",
       "      <td>27.0</td>\n",
       "      <td>0</td>\n",
       "      <td>0</td>\n",
       "      <td>8.6625</td>\n",
       "      <td>1.0</td>\n",
       "      <td>1</td>\n",
       "      <td>0</td>\n",
       "      <td>1</td>\n",
       "    </tr>\n",
       "    <tr>\n",
       "      <th>4</th>\n",
       "      <td>3</td>\n",
       "      <td>22.0</td>\n",
       "      <td>1</td>\n",
       "      <td>1</td>\n",
       "      <td>12.2875</td>\n",
       "      <td>0.0</td>\n",
       "      <td>0</td>\n",
       "      <td>0</td>\n",
       "      <td>1</td>\n",
       "    </tr>\n",
       "  </tbody>\n",
       "</table>\n",
       "</div>"
      ],
      "text/plain": [
       "   Pclass   Age  SibSp  Parch     Fare  Alone  Sex_male  Embarked_Q  \\\n",
       "0       3  34.5      0      0   7.8292    1.0         1           1   \n",
       "1       3  47.0      1      0   7.0000    0.0         0           0   \n",
       "2       2  62.0      0      0   9.6875    1.0         1           1   \n",
       "3       3  27.0      0      0   8.6625    1.0         1           0   \n",
       "4       3  22.0      1      1  12.2875    0.0         0           0   \n",
       "\n",
       "   Embarked_S  \n",
       "0           0  \n",
       "1           1  \n",
       "2           0  \n",
       "3           1  \n",
       "4           1  "
      ]
     },
     "execution_count": 44,
     "metadata": {},
     "output_type": "execute_result"
    }
   ],
   "source": [
    "test_data_encoded.head()"
   ]
  },
  {
   "cell_type": "markdown",
   "id": "2367d39c",
   "metadata": {
    "papermill": {
     "duration": 0.014678,
     "end_time": "2023-09-23T00:14:09.267450",
     "exception": false,
     "start_time": "2023-09-23T00:14:09.252772",
     "status": "completed"
    },
    "tags": []
   },
   "source": [
    "## Split Data For Model"
   ]
  },
  {
   "cell_type": "code",
   "execution_count": 45,
   "id": "7e86a90a",
   "metadata": {
    "execution": {
     "iopub.execute_input": "2023-09-23T00:14:09.298861Z",
     "iopub.status.busy": "2023-09-23T00:14:09.298305Z",
     "iopub.status.idle": "2023-09-23T00:14:09.303543Z",
     "shell.execute_reply": "2023-09-23T00:14:09.302453Z"
    },
    "papermill": {
     "duration": 0.023793,
     "end_time": "2023-09-23T00:14:09.306104",
     "exception": false,
     "start_time": "2023-09-23T00:14:09.282311",
     "status": "completed"
    },
    "tags": []
   },
   "outputs": [],
   "source": [
    "X_train = train_data_encoded.drop(\"Survived\", axis = 1)\n",
    "y_train = train_data_encoded[\"Survived\"]"
   ]
  },
  {
   "cell_type": "markdown",
   "id": "53109db4",
   "metadata": {
    "papermill": {
     "duration": 0.014923,
     "end_time": "2023-09-23T00:14:09.336907",
     "exception": false,
     "start_time": "2023-09-23T00:14:09.321984",
     "status": "completed"
    },
    "tags": []
   },
   "source": [
    "## Random Forest"
   ]
  },
  {
   "cell_type": "code",
   "execution_count": 46,
   "id": "0021de20",
   "metadata": {
    "execution": {
     "iopub.execute_input": "2023-09-23T00:14:09.369468Z",
     "iopub.status.busy": "2023-09-23T00:14:09.368887Z",
     "iopub.status.idle": "2023-09-23T00:16:34.144413Z",
     "shell.execute_reply": "2023-09-23T00:16:34.143080Z"
    },
    "papermill": {
     "duration": 144.794552,
     "end_time": "2023-09-23T00:16:34.146882",
     "exception": false,
     "start_time": "2023-09-23T00:14:09.352330",
     "status": "completed"
    },
    "tags": []
   },
   "outputs": [],
   "source": [
    "from sklearn.ensemble import RandomForestClassifier\n",
    "from sklearn.model_selection import GridSearchCV\n",
    "\n",
    "param_grid = {\n",
    "    'n_estimators': [100, 200, 300],\n",
    "    'max_depth': [None, 10, 20],\n",
    "    'min_samples_split': [2, 5, 10],\n",
    "    'min_samples_leaf': [1, 2, 4] }\n",
    "\n",
    "model = RandomForestClassifier()\n",
    "\n",
    "grid_search = GridSearchCV(estimator=model, param_grid=param_grid, cv = 5 )\n",
    "grid_search.fit(X_train, y_train)\n",
    "\n",
    "best_model = grid_search.best_estimator_\n",
    "predictions = best_model.predict(test_data_encoded)\n"
   ]
  },
  {
   "cell_type": "code",
   "execution_count": 47,
   "id": "fc6a0ce2",
   "metadata": {
    "execution": {
     "iopub.execute_input": "2023-09-23T00:16:34.178689Z",
     "iopub.status.busy": "2023-09-23T00:16:34.178308Z",
     "iopub.status.idle": "2023-09-23T00:16:34.190359Z",
     "shell.execute_reply": "2023-09-23T00:16:34.189288Z"
    },
    "papermill": {
     "duration": 0.030196,
     "end_time": "2023-09-23T00:16:34.192420",
     "exception": false,
     "start_time": "2023-09-23T00:16:34.162224",
     "status": "completed"
    },
    "tags": []
   },
   "outputs": [],
   "source": [
    "test_data_c[\"Survived\"] = predictions\n",
    "test_data_final = test_data_c[[\"PassengerId\", \"Survived\"]]\n",
    "\n",
    "test_data_final.set_index(\"PassengerId\")\n",
    "\n",
    "test_data_final.to_csv('submission.csv', index=False)"
   ]
  }
 ],
 "metadata": {
  "kernelspec": {
   "display_name": "Python 3",
   "language": "python",
   "name": "python3"
  },
  "language_info": {
   "codemirror_mode": {
    "name": "ipython",
    "version": 3
   },
   "file_extension": ".py",
   "mimetype": "text/x-python",
   "name": "python",
   "nbconvert_exporter": "python",
   "pygments_lexer": "ipython3",
   "version": "3.10.12"
  },
  "papermill": {
   "default_parameters": {},
   "duration": 160.885938,
   "end_time": "2023-09-23T00:16:35.230679",
   "environment_variables": {},
   "exception": null,
   "input_path": "__notebook__.ipynb",
   "output_path": "__notebook__.ipynb",
   "parameters": {},
   "start_time": "2023-09-23T00:13:54.344741",
   "version": "2.4.0"
  }
 },
 "nbformat": 4,
 "nbformat_minor": 5
}
